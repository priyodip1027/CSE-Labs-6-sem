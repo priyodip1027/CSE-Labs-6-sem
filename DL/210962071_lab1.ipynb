{
 "cells": [
  {
   "cell_type": "code",
   "execution_count": 1,
   "id": "2ae2149c-b5c9-4662-b8a3-09c082b05285",
   "metadata": {},
   "outputs": [
    {
     "name": "stdout",
     "output_type": "stream",
     "text": [
      "before reshape :  tensor([1, 2, 3, 4, 5, 6])\n",
      "after reshape :  tensor([[1, 2],\n",
      "        [3, 4],\n",
      "        [5, 6]])\n",
      "view:  tensor([[1, 2, 3],\n",
      "        [4, 5, 6],\n",
      "        [7, 8, 9]])\n",
      "stack (dim 0): \n",
      " tensor([[1, 2, 3],\n",
      "        [4, 5, 6]])\n",
      "stack (dim 1): \n",
      " tensor([[1, 4],\n",
      "        [2, 5],\n",
      "        [3, 6]])\n",
      "d.size() =  torch.Size([3, 2, 5])\n",
      "e1 =  tensor([0., 1., 2., 3., 4., 5., 6., 7.])\n",
      "unsqueeze dim =0 :   torch.Size([1, 8])\n",
      "unsqueeze dim =1 :   torch.Size([8, 1])\n"
     ]
    }
   ],
   "source": [
    "#q1\n",
    "# reshaping , viewing, stacking, squeezing and unsqueezing\n",
    "\n",
    "import torch\n",
    "\n",
    "a = torch.tensor([1,2,3,4,5,6])\n",
    "print('before reshape : ',a)\n",
    "\n",
    "a = a.reshape([3,2])\n",
    "print('after reshape : ',a)\n",
    "\n",
    "b = torch.tensor([1,2,3,4,5,6,7,8,9])\n",
    "print('view: ' ,b.view(3,3))\n",
    "\n",
    "c1= torch.tensor([1,2,3])\n",
    "c2 = torch.tensor([4,5,6])\n",
    "c = torch.stack((c1,c2), dim=0)\n",
    "print('stack (dim 0): \\n' ,c)\n",
    "\n",
    "c = torch.stack((c1,c2), dim=1)\n",
    "print('stack (dim 1): \\n' ,c)\n",
    "\n",
    "\n",
    "d1 = torch.randn(3,1,2,1,5)\n",
    "d = torch.squeeze(d1)\n",
    "print('d.size() = ',d.size())\n",
    "\n",
    "e1 = torch.arange(8, dtype=torch.float)\n",
    "print('e1 = ', e1)\n",
    "\n",
    "e = torch.unsqueeze(e1, dim=0)\n",
    "print('unsqueeze dim =0 :  ', e.size())\n",
    "\n",
    "e = torch.unsqueeze(e1, dim=1)\n",
    "print('unsqueeze dim =1 :  ', e.size())"
   ]
  },
  {
   "cell_type": "code",
   "execution_count": 2,
   "id": "6aedc0ff-a735-4f39-a425-2788ed85f790",
   "metadata": {},
   "outputs": [
    {
     "name": "stdout",
     "output_type": "stream",
     "text": [
      "torch.Size([3, 5, 2])\n",
      "tensor([[[-0.3712,  0.1158],\n",
      "         [ 0.1347, -1.5485],\n",
      "         [ 2.0427, -0.5309],\n",
      "         [-1.9613,  1.0704],\n",
      "         [-1.2345,  2.1298]],\n",
      "\n",
      "        [[-0.5957,  0.7224],\n",
      "         [ 1.3207, -0.5949],\n",
      "         [ 2.0703, -1.2171],\n",
      "         [ 1.5049,  0.3571],\n",
      "         [-0.3090,  0.8337]],\n",
      "\n",
      "        [[-1.6359, -0.7557],\n",
      "         [ 1.0387,  0.4383],\n",
      "         [-1.6507, -1.8813],\n",
      "         [ 0.9250,  0.2596],\n",
      "         [-0.0795, -1.5739]]])\n",
      "torch.Size([2, 3, 5])\n",
      "tensor([[[-0.3712,  0.1347,  2.0427, -1.9613, -1.2345],\n",
      "         [-0.5957,  1.3207,  2.0703,  1.5049, -0.3090],\n",
      "         [-1.6359,  1.0387, -1.6507,  0.9250, -0.0795]],\n",
      "\n",
      "        [[ 0.1158, -1.5485, -0.5309,  1.0704,  2.1298],\n",
      "         [ 0.7224, -0.5949, -1.2171,  0.3571,  0.8337],\n",
      "         [-0.7557,  0.4383, -1.8813,  0.2596, -1.5739]]])\n"
     ]
    }
   ],
   "source": [
    "#q2 use of permute\n",
    "\n",
    "# creating a tensor with random\n",
    "# values of dimension 3 X 5 X 2\n",
    "input_var = torch.randn(3, 5, 2)\n",
    "\n",
    "# print size\n",
    "print(input_var.size())\n",
    "\n",
    "print(input_var)\n",
    "\n",
    "# dimensions permuted\n",
    "input_var = input_var.permute(2, 0, 1)\n",
    "\n",
    "# print size\n",
    "print(input_var.size())\n",
    "\n",
    "print(input_var)"
   ]
  },
  {
   "cell_type": "code",
   "execution_count": 3,
   "id": "b7093178-9902-4ff8-9583-66b368b11629",
   "metadata": {},
   "outputs": [
    {
     "name": "stdout",
     "output_type": "stream",
     "text": [
      "tensor([[1, 5, 3],\n",
      "        [8, 9, 2]])\n",
      "at 1,0 =  tensor(8)\n",
      "at 1 =  tensor([8, 9, 2])\n"
     ]
    }
   ],
   "source": [
    "#q3 indexing\n",
    "\n",
    "import torch\n",
    "\n",
    "tensor = torch.tensor([[1,5,3],[8,9,2]])\n",
    "\n",
    "print(tensor)\n",
    "\n",
    "print('at 1,0 = ' ,tensor[1,0])\n",
    "print('at 1 = ' ,tensor[1])"
   ]
  },
  {
   "cell_type": "code",
   "execution_count": 4,
   "id": "bb766dcf-7156-44df-941a-3654b7b92190",
   "metadata": {},
   "outputs": [
    {
     "name": "stdout",
     "output_type": "stream",
     "text": [
      "[[1 2 3]\n",
      " [5 6 6]\n",
      " [7 8 9]] <class 'numpy.ndarray'>\n",
      "tensor([[1, 2, 3],\n",
      "        [5, 6, 6],\n",
      "        [7, 8, 9]]) <class 'torch.Tensor'>\n",
      "[[1 2 3]\n",
      " [5 6 6]\n",
      " [7 8 9]] <class 'numpy.ndarray'>\n"
     ]
    }
   ],
   "source": [
    "#q4 numpy array to tensor and back to numpy array\n",
    "import torch\n",
    "import numpy as np\n",
    "\n",
    "npx = np.array([[1,2,3],[5,6,6], [7,8,9]])\n",
    "print(npx, type(npx))\n",
    "\n",
    "# change to tensor\n",
    "t = torch.from_numpy(npx)\n",
    "\n",
    "print(t, type(t))\n",
    "\n",
    "npy = t.numpy()\n",
    "\n",
    "print(npy, type(npy))"
   ]
  },
  {
   "cell_type": "code",
   "execution_count": 5,
   "id": "31a8fe9d-14ed-44f3-a7ea-26d1c1670b1b",
   "metadata": {},
   "outputs": [
    {
     "name": "stdout",
     "output_type": "stream",
     "text": [
      "tensor([[0.4152, 0.5480, 0.7939, 0.1897, 0.5004, 0.6361, 0.7866],\n",
      "        [0.5927, 0.9243, 0.3594, 0.0469, 0.9758, 0.9420, 0.2398],\n",
      "        [0.9113, 0.8400, 0.0848, 0.8400, 0.3023, 0.4781, 0.2671],\n",
      "        [0.7391, 0.5905, 0.1731, 0.5491, 0.8344, 0.9473, 0.6581],\n",
      "        [0.9242, 0.2861, 0.9584, 0.9947, 0.7999, 0.6618, 0.1721],\n",
      "        [0.7756, 0.0497, 0.2972, 0.6072, 0.6198, 0.1110, 0.5041],\n",
      "        [0.6662, 0.2363, 0.2899, 0.6562, 0.8940, 0.9716, 0.5378]]) torch.Size([7, 7])\n"
     ]
    }
   ],
   "source": [
    "#q5 random tensor of size 7 X 7\n",
    "import torch\n",
    "\n",
    "random_tensor = torch.rand(7,7)\n",
    "\n",
    "print(random_tensor, random_tensor.shape)"
   ]
  },
  {
   "cell_type": "code",
   "execution_count": 6,
   "id": "48b9d915-3f1d-4239-a0fb-5e5230547844",
   "metadata": {},
   "outputs": [
    {
     "name": "stdout",
     "output_type": "stream",
     "text": [
      "Result of matrix multiplication:\n",
      "tensor([[1.8862],\n",
      "        [1.7897],\n",
      "        [1.7896],\n",
      "        [2.3647],\n",
      "        [1.8906],\n",
      "        [1.0407],\n",
      "        [2.6713]])\n"
     ]
    }
   ],
   "source": [
    "#q6 MATRIX MULTI\n",
    "#Define the tensor 'a' from the previous code\n",
    "a = torch.rand(7,7)\n",
    "\n",
    "# Define a random tensor of shape (1, 7)\n",
    "b = torch.rand(1, 7)\n",
    "b=b.transpose(0,1)\n",
    "# Perform matrix multiplication\n",
    "result = torch.matmul(a, b) \n",
    "\n",
    "# Print the result\n",
    "print(\"Result of matrix multiplication:\")\n",
    "print(result)"
   ]
  },
  {
   "cell_type": "code",
   "execution_count": 7,
   "id": "2e4698d8-bb32-4ffd-9761-853263ba1d10",
   "metadata": {},
   "outputs": [
    {
     "name": "stdout",
     "output_type": "stream",
     "text": [
      "a.device =  cpu\n",
      "b.device =  cpu\n",
      "True\n",
      "a.device =  cuda:0\n",
      "b.device =  cuda:0\n"
     ]
    }
   ],
   "source": [
    "#Q7 SENDING TO GPU\n",
    "# generate 2 random tensors of size 3X2 and send them to gpu\n",
    "\n",
    "import torch\n",
    "\n",
    "a = torch.rand(2,3)\n",
    "b = torch.rand(2,3)\n",
    "\n",
    "print('a.device = ',a.device)\n",
    "print('b.device = ',b.device)\n",
    "\n",
    "# send to gpu\n",
    "print(torch.cuda.is_available())\n",
    "\n",
    "if torch.cuda.is_available():\n",
    "   a = a.cuda()\n",
    "   b = b.cuda()\n",
    "\n",
    "print('a.device = ',a.device)\n",
    "print('b.device = ',b.device)"
   ]
  },
  {
   "cell_type": "code",
   "execution_count": 8,
   "id": "c77a4df2-2bf3-4a21-8f5b-d6b76e192522",
   "metadata": {},
   "outputs": [
    {
     "name": "stdout",
     "output_type": "stream",
     "text": [
      "Result of matrix multiplication:\n",
      "tensor([[1.3502],\n",
      "        [1.3084],\n",
      "        [1.0541],\n",
      "        [1.2798],\n",
      "        [1.3370],\n",
      "        [1.7833],\n",
      "        [1.6040]])\n",
      "a.device =  cpu\n",
      "b.device =  cpu\n",
      "True\n",
      "a.device =  cuda:0\n",
      "b.device =  cuda:0\n"
     ]
    }
   ],
   "source": [
    "#Q8\n",
    "a = torch.rand(7,7)\n",
    "\n",
    "# Define a random tensor of shape (1, 7)\n",
    "b = torch.rand(1, 7)\n",
    "b=b.transpose(0,1)\n",
    "# Perform matrix multiplication\n",
    "result = torch.matmul(a, b) \n",
    "\n",
    "# Print the result\n",
    "print(\"Result of matrix multiplication:\")\n",
    "print(result)\n",
    "print('a.device = ',a.device)\n",
    "print('b.device = ',b.device)\n",
    "\n",
    "# send to gpu\n",
    "print(torch.cuda.is_available())\n",
    "\n",
    "if torch.cuda.is_available():\n",
    "   a = a.cuda()\n",
    "   b = b.cuda()\n",
    "\n",
    "print('a.device = ',a.device)\n",
    "print('b.device = ',b.device)"
   ]
  },
  {
   "cell_type": "code",
   "execution_count": 9,
   "id": "3db58ea5-5570-4f53-96b1-2b11f6b4216c",
   "metadata": {},
   "outputs": [
    {
     "name": "stdout",
     "output_type": "stream",
     "text": [
      "Element-wise sum:\n",
      "tensor([[0.6590, 1.3127, 0.6633],\n",
      "        [1.2947, 0.5840, 0.9037]])\n",
      "Maximum value: 1.3126916885375977\n",
      "Minimum value: 0.5839519500732422\n",
      "a.device =  cpu\n",
      "b.device =  cpu\n",
      "True\n",
      "a.device =  cuda:0\n",
      "b.device =  cuda:0\n"
     ]
    }
   ],
   "source": [
    "#Q9\n",
    "\n",
    "a = torch.rand(2, 3)\n",
    "b = torch.rand(2, 3)\n",
    "# Element-wise sum\n",
    "result = a + b\n",
    "# Find maximum and minimum values\n",
    "max_value = torch.max(result)\n",
    "min_value = torch.min(result)\n",
    "# Print the result\n",
    "print(\"Element-wise sum:\")\n",
    "print(result)\n",
    "# Print maximum and minimum values\n",
    "print(\"Maximum value:\", max_value.item())\n",
    "print(\"Minimum value:\", min_value.item())\n",
    "\n",
    "print('a.device = ',a.device)\n",
    "print('b.device = ',b.device)\n",
    "print(torch.cuda.is_available())\n",
    "if torch.cuda.is_available():\n",
    "   a = a.cuda()\n",
    "   b = b.cuda()\n",
    "print('a.device = ',a.device)\n",
    "print('b.device = ',b.device)"
   ]
  },
  {
   "cell_type": "code",
   "execution_count": 10,
   "id": "ac7af838-ded3-4aea-9b7f-bf47c672aef0",
   "metadata": {},
   "outputs": [
    {
     "name": "stdout",
     "output_type": "stream",
     "text": [
      "Index of maximum value: (0, 2)\n",
      "Index of minimum value: (1, 2)\n",
      "True\n",
      "a.device =  cuda:0\n",
      "b.device =  cuda:0\n"
     ]
    }
   ],
   "source": [
    "#q10\n",
    "a = torch.rand(2, 3)\n",
    "b = torch.rand(2, 3)\n",
    "\n",
    "c = a + b\n",
    "\n",
    "# Find the index of the maximum value\n",
    "max_value, max_index = torch.max(c.view(-1), 0)\n",
    "max_row = max_index // c.size(1)\n",
    "max_col = max_index % c.size(1)\n",
    "\n",
    "# Find the index of the minimum value\n",
    "min_value, min_index = torch.min(c.view(-1), 0)\n",
    "min_row = min_index // c.size(1)\n",
    "min_col = min_index % c.size(1)\n",
    "\n",
    "# Print the results\n",
    "print(\"Index of maximum value:\", (max_row.item(), max_col.item()))\n",
    "print(\"Index of minimum value:\", (min_row.item(), min_col.item()))\n",
    "\n",
    "print(torch.cuda.is_available())\n",
    "if torch.cuda.is_available():\n",
    "   a = a.cuda()\n",
    "   b = b.cuda()\n",
    "print('a.device = ',a.device)\n",
    "print('b.device = ',b.device)"
   ]
  },
  {
   "cell_type": "code",
   "execution_count": 11,
   "id": "3b6187c0-13bd-4424-a5a7-2e53e629eb5e",
   "metadata": {},
   "outputs": [
    {
     "name": "stdout",
     "output_type": "stream",
     "text": [
      "Original tensor:\n",
      "tensor([[[[-0.1468,  0.7861,  0.9468, -1.1143,  1.6908, -0.8948, -0.3556,\n",
      "            1.2324,  0.1382, -1.6822]]]])\n",
      "Shape of original tensor: torch.Size([1, 1, 1, 10])\n",
      "\n",
      "Tensor without singleton dimensions:\n",
      "tensor([-0.1468,  0.7861,  0.9468, -1.1143,  1.6908, -0.8948, -0.3556,  1.2324,\n",
      "         0.1382, -1.6822])\n",
      "Shape of tensor without singleton dimensions: torch.Size([10])\n",
      "True\n",
      "a.device =  cuda:0\n",
      "b.device =  cuda:0\n"
     ]
    }
   ],
   "source": [
    "#Q11\n",
    "# Set the seed for reproducibility\n",
    "torch.manual_seed(7)\n",
    "\n",
    "# Create a random tensor with shape (1, 1, 1, 10)\n",
    "tensor_with_singleton_dims = torch.randn(1, 1, 1, 10)\n",
    "\n",
    "# Remove singleton dimensions to get a tensor of shape (10)\n",
    "tensor_without_singleton_dims = tensor_with_singleton_dims.squeeze()\n",
    "\n",
    "# Print the first tensor and its shape\n",
    "print(\"Original tensor:\")\n",
    "print(tensor_with_singleton_dims)\n",
    "print(\"Shape of original tensor:\", tensor_with_singleton_dims.shape)\n",
    "\n",
    "# Print the second tensor and its shape\n",
    "print(\"\\nTensor without singleton dimensions:\")\n",
    "print(tensor_without_singleton_dims)\n",
    "print(\"Shape of tensor without singleton dimensions:\", tensor_without_singleton_dims.shape)\n",
    "\n",
    "print(torch.cuda.is_available())\n",
    "if torch.cuda.is_available():\n",
    "   a = a.cuda()\n",
    "   b = b.cuda()\n",
    "print('a.device = ',a.device)\n",
    "print('b.device = ',b.device)"
   ]
  },
  {
   "cell_type": "code",
   "execution_count": null,
   "id": "a68d7c84-8e8d-4c1a-9155-f57431de4275",
   "metadata": {},
   "outputs": [],
   "source": []
  }
 ],
 "metadata": {
  "kernelspec": {
   "display_name": "Python 3 (ipykernel)",
   "language": "python",
   "name": "python3"
  },
  "language_info": {
   "codemirror_mode": {
    "name": "ipython",
    "version": 3
   },
   "file_extension": ".py",
   "mimetype": "text/x-python",
   "name": "python",
   "nbconvert_exporter": "python",
   "pygments_lexer": "ipython3",
   "version": "3.11.7"
  }
 },
 "nbformat": 4,
 "nbformat_minor": 5
}
